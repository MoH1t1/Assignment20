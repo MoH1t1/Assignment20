{
  "metadata": {
    "kernelspec": {
      "name": "python",
      "display_name": "Python (Pyodide)",
      "language": "python"
    },
    "language_info": {
      "codemirror_mode": {
        "name": "python",
        "version": 3
      },
      "file_extension": ".py",
      "mimetype": "text/x-python",
      "name": "python",
      "nbconvert_exporter": "python",
      "pygments_lexer": "ipython3",
      "version": "3.8"
    }
  },
  "nbformat_minor": 4,
  "nbformat": 4,
  "cells": [
    {
      "cell_type": "code",
      "source": "# Q1. List any five functions of the pandas library with execution.\n\nimport pandas as pd\ndata = {'A': [1, 2, 3], 'B': [4, 5, 6], 'C': [7, 8, 9]}\ndf = pd.DataFrame(data)\n\nprint(\"head():\\n\", df.head(2))\nprint(\"\\ndescribe():\\n\", df.describe())\nprint(\"\\ndrop():\\n\", df.drop('B', axis=1))\n\ndf_with_nan = df.copy()\ndf_with_nan.loc[1, 'B'] = None\nprint(\"\\nfillna():\\n\", df_with_nan.fillna(0))\n\ngrouped = df.groupby('A').sum()\nprint(\"\\ngroupby():\\n\", grouped)\n",
      "metadata": {
        "trusted": true
      },
      "outputs": [
        {
          "name": "stdout",
          "text": "head():\n    A  B  C\n0  1  4  7\n1  2  5  8\n\ndescribe():\n          A    B    C\ncount  3.0  3.0  3.0\nmean   2.0  5.0  8.0\nstd    1.0  1.0  1.0\nmin    1.0  4.0  7.0\n25%    1.5  4.5  7.5\n50%    2.0  5.0  8.0\n75%    2.5  5.5  8.5\nmax    3.0  6.0  9.0\n\ndrop():\n    A  C\n0  1  7\n1  2  8\n2  3  9\n\nfillna():\n    A    B  C\n0  1  4.0  7\n1  2  0.0  8\n2  3  6.0  9\n\ngroupby():\n    B  C\nA      \n1  4  7\n2  5  8\n3  6  9\n",
          "output_type": "stream"
        }
      ],
      "execution_count": 2
    },
    {
      "cell_type": "code",
      "source": "# Q2. Given a Pandas DataFrame df with columns 'A', 'B', and 'C', write a Python function to re-index the\n# DataFrame with a new index that starts from 1 and increments by 2 for each row.\n\nimport pandas as pd\n\ndef reindex_dataframe(df):\n    new_index = range(1, len(df) * 2, 2)\n    df = df.set_index(pd.Index(new_index))\n    return df\n\ndf = pd.DataFrame({\n    'A': [10, 20, 30],\n    'B': [40, 50, 60],\n    'C': [70, 80, 90]\n})\n\nprint(\"Original DataFrame:\\n\", df)\n\nreindexed_df = reindex_dataframe(df)\nprint(\"\\nRe-indexed DataFrame:\\n\", reindexed_df)\n",
      "metadata": {
        "trusted": true
      },
      "outputs": [
        {
          "name": "stdout",
          "text": "Original DataFrame:\n     A   B   C\n0  10  40  70\n1  20  50  80\n2  30  60  90\n\nRe-indexed DataFrame:\n     A   B   C\n1  10  40  70\n3  20  50  80\n5  30  60  90\n",
          "output_type": "stream"
        }
      ],
      "execution_count": 13
    },
    {
      "cell_type": "code",
      "source": "# Q3. You have a Pandas DataFrame df with a column named 'Values'. Write a Python function that\n# iterates over the DataFrame and calculates the sum of the first three values in the 'Values' column. The\n# function should print the sum to the console. For example, if the 'Values' column of df contains the values [10, 20, 30, 40, 50], your function should\n# calculate and print the sum of the first three values, which is 60.\n\nimport pandas as pd\n\ndef sum_first_three(df):\n    first_three_values = df['Values'].iloc[:3]\n    result = first_three_values.sum()\n    print(\"Sum of the first three values:\", result)\n\ndf = pd.DataFrame({'Values': [10, 20, 30, 40, 50]})\nsum_first_three(df)\n",
      "metadata": {
        "trusted": true
      },
      "outputs": [
        {
          "name": "stdout",
          "text": "Sum of the first three values: 60\n",
          "output_type": "stream"
        }
      ],
      "execution_count": 3
    },
    {
      "cell_type": "code",
      "source": "# Q4. Given a Pandas DataFrame df with a column 'Text', write a Python function to create a new column\n# 'Word_Count' that contains the number of words in each row of the 'Text' column.\n\nimport pandas as pd\n\ndef add_word_count_column(df):\n    df['Word_Count'] = df['Text'].apply(lambda x: len(str(x).split()))\n    return df\n\ndf = pd.DataFrame({'Text': ['Hello world', 'Pandas is great', 'Data science is fun']})\nupdated_df = add_word_count_column(df)\nprint(updated_df)\n",
      "metadata": {
        "trusted": true
      },
      "outputs": [
        {
          "name": "stdout",
          "text": "                  Text  Word_Count\n0          Hello world           2\n1      Pandas is great           3\n2  Data science is fun           4\n",
          "output_type": "stream"
        }
      ],
      "execution_count": 5
    },
    {
      "cell_type": "code",
      "source": "# Q5. How are DataFrame.size() and DataFrame.shape() different?\n\nDataFrame.size: Represents the total number of elements in the DataFrame. It can be calculated as rows × columns.\n\nDataFrame.shape: Represents the dimensions of the DataFrame. It returns a tuple (rows,columns).\n",
      "metadata": {
        "trusted": true
      },
      "outputs": [],
      "execution_count": null
    },
    {
      "cell_type": "code",
      "source": "# Q6. Which function of pandas do we use to read an excel file?\n\nThe function to read an Excel file is pd.read_excel().",
      "metadata": {
        "trusted": true
      },
      "outputs": [],
      "execution_count": null
    },
    {
      "cell_type": "code",
      "source": "# Q7. You have a Pandas DataFrame df that contains a column named 'Email' that contains email\n# addresses in the format 'username@domain.com'. Write a Python function that creates a new column\n# 'Username' in df that contains only the username part of each email address.\n# The username is the part of the email address that appears before the '@' symbol. For example, if the\n# email address is 'john.doe@example.com', the 'Username' column should contain 'john.doe'. Your\n# function should extract the username from each email address and store it in the new 'Username' column.\n\nimport pandas as pd\n\ndef extract_username(df):\n    df['Username'] = df['Email'].apply(lambda x: x.split('@')[0])\n    return df\n\ndf = pd.DataFrame({'Email': ['john.doe@example.com', 'jane.smith@test.com', 'bob.jones@company.org']})\nupdated_df = extract_username(df)\nprint(updated_df)\n",
      "metadata": {
        "trusted": true
      },
      "outputs": [
        {
          "name": "stdout",
          "text": "                   Email    Username\n0   john.doe@example.com    john.doe\n1    jane.smith@test.com  jane.smith\n2  bob.jones@company.org   bob.jones\n",
          "output_type": "stream"
        }
      ],
      "execution_count": 6
    },
    {
      "cell_type": "code",
      "source": "# Q8. You have a Pandas DataFrame df with columns 'A', 'B', and 'C'. Write a Python function that selects\n# all rows where the value in column 'A' is greater than 5 and the value in column 'B' is less than 10. The\n# function should return a new DataFrame that contains only the selected rows.\n\nimport pandas as pd\n\ndef filter_rows(df):\n    filtered_df = df[(df['A'] > 5) & (df['B'] < 10)]\n    return filtered_df\n\ndf = pd.DataFrame({\n    'A': [3, 8, 6, 2, 9],\n    'B': [5, 2, 9, 3, 1],\n    'C': [1, 7, 4, 5, 2]\n})\n\nfiltered_df = filter_rows(df)\nprint(filtered_df)\n",
      "metadata": {
        "trusted": true
      },
      "outputs": [
        {
          "name": "stdout",
          "text": "   A  B  C\n1  8  2  7\n2  6  9  4\n4  9  1  2\n",
          "output_type": "stream"
        }
      ],
      "execution_count": 7
    },
    {
      "cell_type": "code",
      "source": "# Q9. Given a Pandas DataFrame df with a column 'Values', write a Python function to calculate the mean, median, and standard deviation of the values in the 'Values' column.\n\nimport pandas as pd\n\ndef calculate_statistics(df):\n    mean_value = df['Values'].mean()\n    median_value = df['Values'].median()\n    std_dev_value = df['Values'].std()\n    print(\"Mean:\", mean_value)\n    print(\"Median:\", median_value)\n    print(\"Standard Deviation:\", std_dev_value)\n\ndf = pd.DataFrame({'Values': [10, 20, 30, 40, 50]})\ncalculate_statistics(df)\n",
      "metadata": {
        "trusted": true
      },
      "outputs": [
        {
          "name": "stdout",
          "text": "Mean: 30.0\nMedian: 30.0\nStandard Deviation: 15.811388300841896\n",
          "output_type": "stream"
        }
      ],
      "execution_count": 8
    },
    {
      "cell_type": "code",
      "source": "# Q10. Given a Pandas DataFrame df with a column 'Sales' and a column 'Date', write a Python function to\n# create a new column 'MovingAverage' that contains the moving average of the sales for the past 7 days\n# for each row in the DataFrame. The moving average should be calculated using a window of size 7 and\n# should include the current day.\n\nimport pandas as pd\n\ndef calculate_moving_average(df):\n    df['Date'] = pd.to_datetime(df['Date'])\n    df = df.sort_values('Date')\n    df['MovingAverage'] = df['Sales'].rolling(window=7, min_periods=1).mean()\n    return df\n\ndf = pd.DataFrame({\n    'Sales': [10, 20, 30, 40, 50, 60, 70, 80, 90, 100],\n    'Date': ['2024-01-01', '2024-01-02', '2024-01-03', '2024-01-04', '2024-01-05', \n             '2024-01-06', '2024-01-07', '2024-01-08', '2024-01-09', '2024-01-10']\n})\n\ndf_with_moving_average = calculate_moving_average(df)\nprint(df_with_moving_average)",
      "metadata": {
        "trusted": true
      },
      "outputs": [
        {
          "name": "stdout",
          "text": "   Sales       Date  MovingAverage\n0     10 2024-01-01           10.0\n1     20 2024-01-02           15.0\n2     30 2024-01-03           20.0\n3     40 2024-01-04           25.0\n4     50 2024-01-05           30.0\n5     60 2024-01-06           35.0\n6     70 2024-01-07           40.0\n7     80 2024-01-08           50.0\n8     90 2024-01-09           60.0\n9    100 2024-01-10           70.0\n",
          "output_type": "stream"
        }
      ],
      "execution_count": 9
    },
    {
      "cell_type": "code",
      "source": "# Q11. You have a Pandas DataFrame df with a column 'Date'. Write a Python function that creates a new\n# column 'Weekday' in the DataFrame. The 'Weekday' column should contain the weekday name (e.g.\n# Monday, Tuesday) corresponding to each date in the 'Date' column.\n\nimport pandas as pd\n\ndef add_weekday_column(df):\n    df['Date'] = pd.to_datetime(df['Date'])\n    df['Weekday'] = df['Date'].dt.day_name()\n    return df\n\ndf = pd.DataFrame({\n    'Date': ['2024-01-01', '2024-01-02', '2024-01-03', '2024-01-04', '2024-01-05']\n})\n\ndf_with_weekday = add_weekday_column(df)\nprint(df_with_weekday)\n",
      "metadata": {
        "trusted": true
      },
      "outputs": [
        {
          "name": "stdout",
          "text": "        Date    Weekday\n0 2024-01-01     Monday\n1 2024-01-02    Tuesday\n2 2024-01-03  Wednesday\n3 2024-01-04   Thursday\n4 2024-01-05     Friday\n",
          "output_type": "stream"
        }
      ],
      "execution_count": 10
    },
    {
      "cell_type": "code",
      "source": "# Q12. Given a Pandas DataFrame df with a column 'Date' that contains timestamps, write a Python\n# function to select all rows where the date is between '2023-01-01' and '2023-01-31'.\n\nimport pandas as pd\n\ndef select_date_range(df):\n    df['Date'] = pd.to_datetime(df['Date'])\n    start_date = pd.to_datetime('2023-01-01')\n    end_date = pd.to_datetime('2023-01-31')\n    filtered_df = df[(df['Date'] >= start_date) & (df['Date'] <= end_date)]\n    return filtered_df\n\ndf = pd.DataFrame({\n    'Date': ['2023-01-01 10:00:00', '2023-01-15 12:00:00', '2023-02-01 08:00:00', '2023-01-30 16:00:00'],\n    'Value': [100, 200, 300, 400]\n})\n\nfiltered_df = select_date_range(df)\nprint(filtered_df)\n",
      "metadata": {
        "trusted": true
      },
      "outputs": [
        {
          "name": "stdout",
          "text": "                 Date  Value\n0 2023-01-01 10:00:00    100\n1 2023-01-15 12:00:00    200\n3 2023-01-30 16:00:00    400\n",
          "output_type": "stream"
        }
      ],
      "execution_count": 11
    },
    {
      "cell_type": "code",
      "source": "# Q13. To use the basic functions of pandas, what is the first and foremost necessary library that needs to be imported?\n\n# The first and foremost necessary library that needs to be imported to use the basic functions of Pandas is:\n\nimport pandas as pd\n",
      "metadata": {
        "trusted": true
      },
      "outputs": [],
      "execution_count": 12
    }
  ]
}